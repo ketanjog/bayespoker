{
 "cells": [
  {
   "cell_type": "markdown",
   "id": "84e5f1a0",
   "metadata": {},
   "source": [
    "# Create a dataset of players, where each player has a set of plays they made"
   ]
  },
  {
   "cell_type": "markdown",
   "id": "d4e447bf",
   "metadata": {},
   "source": [
    "## ----------------------------------------------------------------------------------------------"
   ]
  },
  {
   "cell_type": "markdown",
   "id": "2bb51d1d",
   "metadata": {},
   "source": [
    "### Load the set of 18832 valid hands extracted from the IRCdatabase. We have only extracted valid hands from the \"holdem\" tag (there are around 6 more)"
   ]
  },
  {
   "cell_type": "code",
   "execution_count": 1,
   "id": "c6fbfd93",
   "metadata": {},
   "outputs": [],
   "source": [
    "DATAPATH = \"/Users/ketanjog/Documents/Columbia_Classes/Year_5/Semester_9/pgm/project/bayespoker/data/PokerHandsDataset/hands_valid.json\""
   ]
  },
  {
   "cell_type": "code",
   "execution_count": 27,
   "id": "36fef3bc",
   "metadata": {},
   "outputs": [],
   "source": [
    "import json\n",
    "import pandas as pd\n",
    "import time \n",
    "import pprint\n",
    "printDict = pprint.PrettyPrinter(depth=6)"
   ]
  },
  {
   "cell_type": "code",
   "execution_count": 30,
   "id": "3dd93e8a",
   "metadata": {},
   "outputs": [
    {
     "name": "stdout",
     "output_type": "stream",
     "text": [
      "An example of a poker hand record\n",
      "\n",
      "{'board': ['6c', '3d', '7s', 'Ts', '2h'],\n",
      " 'dealer': 1,\n",
      " 'game': 'holdem',\n",
      " 'id': 1,\n",
      " 'num_players': 2,\n",
      " 'players': [{'action': 50,\n",
      "              'bankroll': 845,\n",
      "              'bets': [{'actions': ['B', 'r'], 'stage': 'p'},\n",
      "                       {'actions': ['b'], 'stage': 'f'},\n",
      "                       {'actions': ['k', 'c'], 'stage': 't'},\n",
      "                       {'actions': ['k'], 'stage': 'r'}],\n",
      "              'pocket_cards': ['9s', '9h'],\n",
      "              'pos': 1,\n",
      "              'user': 'GregR',\n",
      "              'winnings': 0},\n",
      "             {'action': 50,\n",
      "              'bankroll': 860,\n",
      "              'bets': [{'actions': ['B', 'c'], 'stage': 'p'},\n",
      "                       {'actions': ['c'], 'stage': 'f'},\n",
      "                       {'actions': ['b'], 'stage': 't'},\n",
      "                       {'actions': ['k'], 'stage': 'r'}],\n",
      "              'pocket_cards': ['Kc', 'Tc'],\n",
      "              'pos': 2,\n",
      "              'user': 'kwAAkbot',\n",
      "              'winnings': 100}],\n",
      " 'pots': [{'num_players': 2, 'size': 40, 'stage': 'f'},\n",
      "          {'num_players': 2, 'size': 60, 'stage': 't'},\n",
      "          {'num_players': 2, 'size': 100, 'stage': 'r'},\n",
      "          {'num_players': 2, 'size': 100, 'stage': 's'}],\n",
      " 'time': '199807'}\n"
     ]
    }
   ],
   "source": [
    "# Demonstrate a single entry in the dataset\n",
    "\n",
    "with open(DATAPATH, 'r') as f:\n",
    "        # print('#' * 60)\n",
    "        line = f.readline()\n",
    "        hand = json.loads(line)\n",
    "        print(\"An example of a poker hand record\\n\")\n",
    "        printDict.pprint(hand)\n",
    "            "
   ]
  },
  {
   "cell_type": "code",
   "execution_count": 22,
   "id": "af5cea3c",
   "metadata": {},
   "outputs": [
    {
     "name": "stdout",
     "output_type": "stream",
     "text": [
      "We have 18832 hands\n",
      "Execution time: 0.38 seconds\n"
     ]
    }
   ],
   "source": [
    "# Count the lines in the dataset\n",
    "count = 0\n",
    "st = time.time()\n",
    "with open(DATAPATH, 'r') as f:\n",
    "        # print('#' * 60)\n",
    "        line = f.readline()\n",
    "        while line:\n",
    "            hand = json.loads(line)\n",
    "            count = count+1\n",
    "            line = f.readline()\n",
    "            \n",
    "end = time.time()\n",
    "\n",
    "print(f'We have {count} hands')\n",
    "print(f\"Execution time: {(end-st):.2f} seconds\")"
   ]
  },
  {
   "cell_type": "code",
   "execution_count": null,
   "id": "19fc1445",
   "metadata": {},
   "outputs": [],
   "source": [
    "def getRounds(hand):\n",
    "    boardCards = hand['board']\n",
    "    numberOfRounds = getRounds(len(boardCards))\n",
    "\n",
    "def geRounds(numCards: int):\n",
    "    if numCards == 0:\n",
    "        return 1\n",
    "    elif numCards == 3:\n",
    "        return 2\n",
    "    elif numCards == 4:\n",
    "        return 3\n",
    "    elif numCards == 5:\n",
    "        return 4\n",
    "    else:\n",
    "        return 0\n",
    "    "
   ]
  },
  {
   "cell_type": "code",
   "execution_count": 34,
   "id": "dd6e9491",
   "metadata": {},
   "outputs": [
    {
     "data": {
      "text/plain": [
       "2"
      ]
     },
     "execution_count": 34,
     "metadata": {},
     "output_type": "execute_result"
    }
   ],
   "source": [
    "len(hand['players'])"
   ]
  },
  {
   "cell_type": "code",
   "execution_count": null,
   "id": "084505cf",
   "metadata": {},
   "outputs": [],
   "source": []
  }
 ],
 "metadata": {
  "kernelspec": {
   "display_name": "pgmkernel",
   "language": "python",
   "name": "venv"
  },
  "language_info": {
   "codemirror_mode": {
    "name": "ipython",
    "version": 3
   },
   "file_extension": ".py",
   "mimetype": "text/x-python",
   "name": "python",
   "nbconvert_exporter": "python",
   "pygments_lexer": "ipython3",
   "version": "3.9.6"
  }
 },
 "nbformat": 4,
 "nbformat_minor": 5
}
