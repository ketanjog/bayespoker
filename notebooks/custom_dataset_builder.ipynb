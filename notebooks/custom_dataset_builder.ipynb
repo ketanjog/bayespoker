{
 "cells": [
  {
   "cell_type": "markdown",
   "id": "5618bc71",
   "metadata": {},
   "source": [
    "# Create a dataset of players, where each player has a set of plays they made"
   ]
  },
  {
   "cell_type": "markdown",
   "id": "1bfe9d5e",
   "metadata": {},
   "source": [
    "## ----------------------------------------------------------------------------------------------"
   ]
  },
  {
   "cell_type": "markdown",
   "id": "281c21fd",
   "metadata": {},
   "source": [
    "### Load the set of 18832 valid hands extracted from the IRCdatabase. We have only extracted valid hands from the \"holdem\" tag (there are around 6 more)"
   ]
  },
  {
   "cell_type": "code",
   "execution_count": 15,
   "id": "d6842e09",
   "metadata": {},
   "outputs": [],
   "source": [
    "# CONFIGURATION\n",
    "DATAPATH = \"/Users/ketanjog/Documents/Columbia_Classes/Year_5/Semester_9/pgm/project/bayespoker/data/PokerHandsDataset/hands_valid.json\"\n",
    "\n",
    "STRENGTH_GRANULARITY = 5\n",
    "AGGRESSIVENESS_GRANULARITY = 10"
   ]
  },
  {
   "cell_type": "code",
   "execution_count": 18,
   "id": "1f97bb8d",
   "metadata": {},
   "outputs": [],
   "source": [
    "# !pip install treys\n",
    "import json\n",
    "import pandas as pd\n",
    "import time \n",
    "import pprint\n",
    "printDict = pprint.PrettyPrinter(depth=6)\n",
    "from treys import Card, Evaluator, Deck\n",
    "evaluator = Evaluator()\n"
   ]
  },
  {
   "cell_type": "code",
   "execution_count": 8,
   "id": "73ed7add",
   "metadata": {},
   "outputs": [
    {
     "name": "stdout",
     "output_type": "stream",
     "text": [
      "An example of a poker hand record\n",
      "\n",
      "{'board': ['6c', '3d', '7s', 'Ts', '2h'],\n",
      " 'dealer': 1,\n",
      " 'game': 'holdem',\n",
      " 'id': 1,\n",
      " 'num_players': 2,\n",
      " 'players': [{'action': 50,\n",
      "              'bankroll': 845,\n",
      "              'bets': [{'actions': ['B', 'r'], 'stage': 'p'},\n",
      "                       {'actions': ['b'], 'stage': 'f'},\n",
      "                       {'actions': ['k', 'c'], 'stage': 't'},\n",
      "                       {'actions': ['k'], 'stage': 'r'}],\n",
      "              'pocket_cards': ['9s', '9h'],\n",
      "              'pos': 1,\n",
      "              'user': 'GregR',\n",
      "              'winnings': 0},\n",
      "             {'action': 50,\n",
      "              'bankroll': 860,\n",
      "              'bets': [{'actions': ['B', 'c'], 'stage': 'p'},\n",
      "                       {'actions': ['c'], 'stage': 'f'},\n",
      "                       {'actions': ['b'], 'stage': 't'},\n",
      "                       {'actions': ['k'], 'stage': 'r'}],\n",
      "              'pocket_cards': ['Kc', 'Tc'],\n",
      "              'pos': 2,\n",
      "              'user': 'kwAAkbot',\n",
      "              'winnings': 100}],\n",
      " 'pots': [{'num_players': 2, 'size': 40, 'stage': 'f'},\n",
      "          {'num_players': 2, 'size': 60, 'stage': 't'},\n",
      "          {'num_players': 2, 'size': 100, 'stage': 'r'},\n",
      "          {'num_players': 2, 'size': 100, 'stage': 's'}],\n",
      " 'time': '199807'}\n"
     ]
    }
   ],
   "source": [
    "# Demonstrate a single entry in the dataset\n",
    "\n",
    "with open(DATAPATH, 'r') as f:\n",
    "        # print('#' * 60)\n",
    "        line = f.readline()\n",
    "        hand = json.loads(line)\n",
    "        print(\"An example of a poker hand record\\n\")\n",
    "        printDict.pprint(hand)\n",
    "            "
   ]
  },
  {
   "cell_type": "code",
   "execution_count": 9,
   "id": "d3de7611",
   "metadata": {},
   "outputs": [
    {
     "name": "stdout",
     "output_type": "stream",
     "text": [
      "We have 18832 hands\n",
      "Execution time: 0.40 seconds\n"
     ]
    }
   ],
   "source": [
    "# Count the lines in the dataset\n",
    "count = 0\n",
    "st = time.time()\n",
    "with open(DATAPATH, 'r') as f:\n",
    "        # print('#' * 60)\n",
    "        line = f.readline()\n",
    "        while line:\n",
    "            hand = json.loads(line)\n",
    "            count = count+1\n",
    "            line = f.readline()\n",
    "            \n",
    "end = time.time()\n",
    "\n",
    "print(f'We have {count} hands')\n",
    "print(f\"Execution time: {(end-st):.2f} seconds\")"
   ]
  },
  {
   "cell_type": "markdown",
   "id": "3b55063c",
   "metadata": {},
   "source": [
    "### Now extract structured dataset for mixed membership models"
   ]
  },
  {
   "cell_type": "code",
   "execution_count": 46,
   "id": "1f7f2e07",
   "metadata": {},
   "outputs": [],
   "source": [
    "class Round:\n",
    "    def __init__(self):\n",
    "        self.strength = 0\n",
    "        self.aggression = 0\n",
    "\n",
    "class Player:\n",
    "    def __init__(self, name):\n",
    "        self.name = name\n",
    "        self.rounds = []\n",
    "\n",
    "class Dataset:\n",
    "    def __init__(self):\n",
    "        self.data =dict()\n",
    "\n",
    "    def addPlayer(self, player: Player):\n",
    "        self.data[player.name] = player.rounds\n",
    "\n",
    "    def updatePlayer(self, player: Player):\n",
    "        self.data[player.name] = player.rounds\n"
   ]
  },
  {
   "cell_type": "code",
   "execution_count": 63,
   "id": "f0dc6436",
   "metadata": {},
   "outputs": [],
   "source": [
    "DF = Dataset()\n",
    "\n",
    "def getHandStrength(board, hand, round):\n",
    "    evaluator = Evaluator()\n",
    "    myHand = []\n",
    "    for card in hand:\n",
    "        myHand.append(Card.new(card))\n",
    "\n",
    "    myBoard = []\n",
    "    for card in board:\n",
    "        myBoard.append(Card.new(card))\n",
    "    strength = evaluator.evaluate(myBoard[:round], myHand)\n",
    "    # We know that trey has 7642 distinct hands ranked in a lookup table, 1 being the strongest\n",
    "    gradation = 7642/STRENGTH_GRANULARITY\n",
    "    strength = int(strength/gradation)\n",
    "    return strength\n",
    "\n",
    "def getHandAggression(actions):\n",
    "    aggression = 0\n",
    "    for action in actions:\n",
    "        # Add 0 for check\n",
    "        if action == 'k':\n",
    "            continue\n",
    "        elif action == 'c':\n",
    "            aggression += 1\n",
    "        elif action == 'r':\n",
    "            aggression += 2\n",
    "        elif action == 'f':\n",
    "            continue\n",
    "    # Cap aggression at 10\n",
    "    if aggression > 10:\n",
    "        aggression = 10\n",
    "    return aggression\n",
    "\n",
    "def getRounds(numCards: int):\n",
    "    if numCards == 0:\n",
    "        return 1\n",
    "    elif numCards == 3:\n",
    "        return 2\n",
    "    elif numCards == 4:\n",
    "        return 3\n",
    "    elif numCards == 5:\n",
    "        return 4\n",
    "    else:\n",
    "        return 0\n",
    "    \n",
    "\n",
    "def addToDataset(hand, DF):\n",
    "    boardCards = hand['board']\n",
    "    numberOfRounds = getRounds(len(boardCards))\n",
    "    if numberOfRounds == 0:\n",
    "        return None\n",
    "    numberOfPlayers = len(hand['players'])\n",
    "\n",
    "    for playerIndex in range(numberOfPlayers):\n",
    "        name = hand['players'][playerIndex]['user']\n",
    "        if hand['players'][playerIndex]['user'] not in DF.data:\n",
    "        \n",
    "            player = Player(name)\n",
    "            DF.addPlayer(player)\n",
    "        else:\n",
    "            player = DF.data[hand['players'][playerIndex]['user']]\n",
    "       \n",
    "        for roundIndex in range(1, numberOfRounds):\n",
    "            if roundIndex == 1:\n",
    "                assert(hand['players'][playerIndex]['bets'][roundIndex]['stage'] == 'f')\n",
    "\n",
    "                # Create a new round\n",
    "                round = Round()\n",
    "\n",
    "                # Calculate strength\n",
    "                round.strength = getHandStrength(boardCards, hand['players'][playerIndex]['pocket_cards'], 3)\n",
    "                \n",
    "                # Calculate aggression\n",
    "                round.aggression = getHandAggression(hand['players'][playerIndex]['bets'][roundIndex]['actions'])\n",
    "            elif roundIndex == 2:\n",
    "                assert(hand['players'][playerIndex]['bets'][roundIndex]['stage'] == 't')\n",
    "\n",
    "                # Create a new round\n",
    "                round = Round()\n",
    "\n",
    "                # Calculate strength\n",
    "                round.strength = getHandStrength(boardCards, hand['players'][playerIndex]['pocket_cards'], 4)\n",
    "                \n",
    "                # Calculate aggression\n",
    "                round.aggression = getHandAggression(hand['players'][playerIndex]['bets'][roundIndex]['actions'])\n",
    "            elif roundIndex == 3:\n",
    "                assert(hand['players'][playerIndex]['bets'][roundIndex]['stage'] == 'r')\n",
    "\n",
    "                # Create a new round\n",
    "                round = Round()\n",
    "\n",
    "                # Calculate strength\n",
    "                round.strength = getHandStrength(boardCards, hand['players'][playerIndex]['pocket_cards'], 5)\n",
    "                \n",
    "                # Calculate aggression\n",
    "                round.aggression = getHandAggression(hand['players'][playerIndex]['bets'][roundIndex]['actions'])\n",
    "            \n",
    "            # Add the round to the player\n",
    "            DF.data[name].append(round)\n",
    "\n",
    "\n",
    "            \n",
    "\n",
    "\n",
    "\n"
   ]
  },
  {
   "cell_type": "code",
   "execution_count": 64,
   "id": "f9bc9e24",
   "metadata": {},
   "outputs": [],
   "source": [
    "def extractDataset(DATAPATH, DF):\n",
    "    linecount = 0\n",
    "    with open(DATAPATH, 'r') as f:\n",
    "        # print('#' * 60)\n",
    "        line = f.readline()\n",
    "\n",
    "        while line:\n",
    "            linecount += 1\n",
    "            hand = json.loads(line)\n",
    "            addToDataset(hand, DF)\n",
    "            line = f.readline()\n",
    "            if linecount % 1000 == 0:\n",
    "                print(f\"Processed {linecount} hands\")\n",
    "    return DF"
   ]
  },
  {
   "cell_type": "code",
   "execution_count": 65,
   "id": "2c748726",
   "metadata": {},
   "outputs": [
    {
     "name": "stdout",
     "output_type": "stream",
     "text": [
      "Processed 1000 hands\n",
      "Processed 2000 hands\n",
      "Processed 3000 hands\n",
      "Processed 4000 hands\n",
      "Processed 5000 hands\n",
      "Processed 6000 hands\n",
      "Processed 7000 hands\n",
      "Processed 8000 hands\n",
      "Processed 9000 hands\n",
      "Processed 10000 hands\n",
      "Processed 11000 hands\n",
      "Processed 12000 hands\n",
      "Processed 13000 hands\n",
      "Processed 14000 hands\n",
      "Processed 15000 hands\n",
      "Processed 16000 hands\n",
      "Processed 17000 hands\n",
      "Processed 18000 hands\n"
     ]
    },
    {
     "data": {
      "text/plain": [
       "<__main__.Dataset at 0x7fa2360e15e0>"
      ]
     },
     "execution_count": 65,
     "metadata": {},
     "output_type": "execute_result"
    }
   ],
   "source": [
    "DF = Dataset()\n",
    "extractDataset(DATAPATH, DF)"
   ]
  },
  {
   "cell_type": "code",
   "execution_count": 20,
   "id": "27e450f8",
   "metadata": {},
   "outputs": [
    {
     "name": "stdout",
     "output_type": "stream",
     "text": [
      "Strength: 4\n"
     ]
    }
   ],
   "source": [
    "def getHandStrength(board, hand, round):\n",
    "    evaluator = Evaluator()\n",
    "    strength = evaluator.evaluate(board[:round], hand)\n",
    "    # We know that trey has 7642 distinct hands ranked in a lookup table, 1 being the strongest\n",
    "    gradation = 7642/STRENGTH_GRANULARITY\n",
    "    strength = int(strength/gradation)\n",
    "    return strength\n",
    "\n",
    "cards = hand['players'][0]['pocket_cards']\n",
    "myHand = []\n",
    "for card in cards:\n",
    "    myHand.append(Card.new(card))\n",
    "\n",
    "board = []\n",
    "for card in hand['board']:\n",
    "    board.append(Card.new(card))\n",
    "evaluator = Evaluator()\n",
    "strength = evaluator.evaluate(board[:3], myHand)\n",
    "\n",
    "# We know that trey has 7642 distinct hands ranked in a lookup table, 1 being the strongest\n",
    "gradation = 7642/STRENGTH_GRANULARITY\n",
    "strength = int(strength/gradation)\n",
    "print(f\"Strength: {strength}\")\n",
    "\n",
    "\n"
   ]
  },
  {
   "cell_type": "code",
   "execution_count": 66,
   "id": "c0b207df",
   "metadata": {},
   "outputs": [],
   "source": [
    "import pickle\n",
    "\n",
    "with open('data.pickle', 'wb') as handle:\n",
    "    pickle.dump(DF, handle, protocol=pickle.HIGHEST_PROTOCOL)"
   ]
  },
  {
   "cell_type": "code",
   "execution_count": 67,
   "id": "5d5d02f6",
   "metadata": {},
   "outputs": [
    {
     "data": {
      "text/plain": [
       "2283"
      ]
     },
     "execution_count": 67,
     "metadata": {},
     "output_type": "execute_result"
    }
   ],
   "source": [
    "len(DF.data)"
   ]
  },
  {
   "cell_type": "code",
   "execution_count": 71,
   "id": "6061401a",
   "metadata": {},
   "outputs": [
    {
     "name": "stdout",
     "output_type": "stream",
     "text": [
      "Number of rounds: 119802\n"
     ]
    }
   ],
   "source": [
    "numRounds = 0\n",
    "for player, rounds in DF.data.items():\n",
    "    numRounds += len(rounds)\n",
    "print(f\"Number of rounds: {numRounds}\")"
   ]
  },
  {
   "cell_type": "code",
   "execution_count": 72,
   "id": "83ba7370",
   "metadata": {},
   "outputs": [],
   "source": [
    "INDEX_TO_NAME = {}\n",
    "for index, player in enumerate(DF.data):\n",
    "    INDEX_TO_NAME[index] = player\n",
    "\n"
   ]
  },
  {
   "cell_type": "code",
   "execution_count": 74,
   "id": "f2dd7961",
   "metadata": {},
   "outputs": [],
   "source": [
    "# Save the index to name mapping\n",
    "with open('indexToName.pickle', 'wb') as handle:\n",
    "    pickle.dump(INDEX_TO_NAME, handle, protocol=pickle.HIGHEST_PROTOCOL)"
   ]
  },
  {
   "cell_type": "code",
   "execution_count": 77,
   "id": "fd029a24",
   "metadata": {},
   "outputs": [
    {
     "name": "stdout",
     "output_type": "stream",
     "text": [
      "Player: GregR | Rounds: 57\n"
     ]
    }
   ],
   "source": [
    "# Print length of rounds for 1 player:\n",
    "for player, rounds in DF.data.items():\n",
    "    print(f\"Player: {player} | Rounds: {len(rounds)}\")\n",
    "    break"
   ]
  },
  {
   "cell_type": "code",
   "execution_count": 127,
   "id": "2ab21a2f",
   "metadata": {},
   "outputs": [
    {
     "name": "stdout",
     "output_type": "stream",
     "text": [
      "Number of players: 2283\n"
     ]
    }
   ],
   "source": [
    "# Print number of players\n",
    "print(f\"Number of players: {len(DF.data.keys())}\")"
   ]
  },
  {
   "cell_type": "code",
   "execution_count": 78,
   "id": "afa512ce",
   "metadata": {},
   "outputs": [
    {
     "name": "stdout",
     "output_type": "stream",
     "text": [
      "Average number of rounds per player: 52.47568988173456\n"
     ]
    }
   ],
   "source": [
    "# Calculate average number of rounds per player\n",
    "totalRounds = 0\n",
    "for player, rounds in DF.data.items():\n",
    "    totalRounds += len(rounds)\n",
    "print(f\"Average number of rounds per player: {totalRounds/len(DF.data)}\")"
   ]
  },
  {
   "cell_type": "code",
   "execution_count": 80,
   "id": "26d6b3fb",
   "metadata": {},
   "outputs": [],
   "source": [
    "# Make data more usable\n",
    "POKER_DATA = {}\n",
    "for player, rounds in DF.data.items():\n",
    "    POKER_DATA[player] = []\n",
    "    for round in rounds:\n",
    "        POKER_DATA[player].append((round.strength, round.aggression))\n"
   ]
  },
  {
   "cell_type": "code",
   "execution_count": 81,
   "id": "795b3e9b",
   "metadata": {},
   "outputs": [],
   "source": [
    "with open('pokerData.pickle', 'wb') as handle:\n",
    "    pickle.dump(POKER_DATA, handle, protocol=pickle.HIGHEST_PROTOCOL)"
   ]
  },
  {
   "cell_type": "code",
   "execution_count": null,
   "id": "20fe91b9",
   "metadata": {},
   "outputs": [],
   "source": []
  },
  {
   "attachments": {},
   "cell_type": "markdown",
   "id": "48c19b1a",
   "metadata": {},
   "source": [
    "# Now we construct a Mixture Model over this Poker Dataset"
   ]
  },
  {
   "cell_type": "code",
   "execution_count": 82,
   "id": "ec74081f",
   "metadata": {},
   "outputs": [],
   "source": [
    "from collections import Counter\n",
    "import random\n",
    "import re\n",
    "import matplotlib.pyplot as plt\n",
    "from re import RegexFlag"
   ]
  },
  {
   "cell_type": "code",
   "execution_count": 83,
   "id": "1c2b776d",
   "metadata": {},
   "outputs": [],
   "source": [
    "# Get our dataset\n",
    "with open('pokerData.pickle', 'rb') as handle:\n",
    "    data = pickle.load(handle)"
   ]
  },
  {
   "cell_type": "code",
   "execution_count": 128,
   "id": "390da922",
   "metadata": {},
   "outputs": [
    {
     "name": "stdout",
     "output_type": "stream",
     "text": [
      "Number of players: 2283\n"
     ]
    }
   ],
   "source": [
    "# Print number of players\n",
    "print(f\"Number of players: {len(data.keys())}\")"
   ]
  },
  {
   "cell_type": "code",
   "execution_count": 112,
   "id": "9ad107ee",
   "metadata": {},
   "outputs": [],
   "source": [
    "class MixtureModel:\n",
    "    '''\n",
    "    We follow a modelling approach very similar to LDA, a topic model designed for text documents.\n",
    " \n",
    "    This model allows us to extract playing styles for each player from a dataset of plays. \n",
    "    Each style can be described by a list of parameters from most to least involved in the players style. \n",
    "    Then, each player can be connected to these style, to determine\n",
    "    how representative that player is of that style, and also which style does he/she favor more.\n",
    "    '''\n",
    "\n",
    "    def __init__(self, K, max_iteration):\n",
    "        \"\"\"\n",
    "        K represents the number of styles we want to extract from the dataset.\n",
    "        max_iteration represents the maximum number of iterations we want to run the algorithm for.\n",
    "        \"\"\"\n",
    "        self.K = K\n",
    "        self.max_iteration = max_iteration\n",
    "\n",
    "    def sample_from_weights(self, weights):\n",
    "        '''\n",
    "        We use this function to randomly choose an index based some set of weights.\n",
    "        Return the index of the first weight that is more or the same as a random sampled number.\n",
    "        '''\n",
    "        total = sum(weights)\n",
    "        rnd = total * random.random()  # uniform between 0 and total\n",
    "        for i, w in enumerate(weights):\n",
    "            rnd -= w  # return the smallest i such that\n",
    "            if rnd <= 0: return i  # sum(weights[:(i+1)]) >= rnd\n",
    "\n",
    "    def p_topic_given_document(self, topic, d, alpha=0.1):\n",
    "        '''\n",
    "        P(topic|d,Alpha)\n",
    "        The fraction of words in document d\n",
    "        that are assigned to topic (plus some smoothing)\n",
    "        '''    \n",
    "        return ((self.document_topic_counts[d][topic] + alpha) / \n",
    "                (self.document_lengths[d] + self.K * alpha))\n",
    "\n",
    "    def p_word_given_topic(self, word, topic, beta=0.1):\n",
    "        '''\n",
    "        P(word|topic,Beta)\n",
    "        The fraction of words assigned to topic\n",
    "        that equal word (plus some smoothing)\n",
    "        '''    \n",
    "        return ((self.topic_word_counts[topic][word] + beta) / \n",
    "                (self.topic_counts[topic] + self.W * beta))\n",
    "\n",
    "    def topic_weight(self, d, word, topic):\n",
    "        '''\n",
    "        P(topic|word,Alpha,Beta) = P(topic|d,Alpha) * P(word|topic,Beta)\n",
    "        Given a document and a word in that document,\n",
    "        return the weight for the k-th topic\n",
    "        '''    \n",
    "        return self.p_word_given_topic(word, topic) * self.p_topic_given_document(topic, d)\n",
    "\n",
    "    def choose_new_topic(self, d, word):\n",
    "        return self.sample_from_weights([self.topic_weight(d, word, k)\n",
    "                            for k in range(self.K)])\n",
    "    \n",
    "    def gibbs_sample(self, document_topics, documents):\n",
    "        '''\n",
    "        Gibbs sampling https://en.wikipedia.org/wiki/Gibbs_sampling.\n",
    "        '''\n",
    "        iterations = 0\n",
    "        for _ in range(self.max_iteration):\n",
    "            start = time.time()\n",
    "            for d in range(self.D):\n",
    "                for i, (word, topic) in enumerate(zip(documents[d],\n",
    "                                                      document_topics[d])):        \n",
    "                    # remove this word / topic from the counts\n",
    "                    # so that it doesn't influence the weights\n",
    "                    self.document_topic_counts[d][topic] -= 1\n",
    "                    self.topic_word_counts[topic][word] -= 1\n",
    "                    self.topic_counts[topic] -= 1\n",
    "                    self.document_lengths[d] -= 1\n",
    "        \n",
    "                    # choose a new topic based on the weights\n",
    "                    new_topic = self.choose_new_topic(d, word)\n",
    "                    document_topics[d][i] = new_topic\n",
    "        \n",
    "                    # and now add it back to the counts\n",
    "                    self.document_topic_counts[d][new_topic] += 1\n",
    "                    self.topic_word_counts[new_topic][word] += 1\n",
    "                    self.topic_counts[new_topic] += 1\n",
    "                    self.document_lengths[d] += 1\n",
    "                \n",
    "            iterations += 1\n",
    "            if iterations % 50 == 0:\n",
    "                end = time.time()\n",
    "                print(f\"Iteration: {iterations}\")\n",
    "                print(\"Average time per iteration: \", (end-start)/50)\n",
    "                print(\"Estimated time remaining: \", (end-start)/50 * (self.max_iteration - iterations))\n",
    "\n",
    "    def run(self, documents):  \n",
    "        # How many times each topic is assigned to each document.\n",
    "        self.document_topic_counts = [Counter()\n",
    "                             for _ in documents]\n",
    "        \n",
    "        # How many times each word is assigned to each topic.\n",
    "        self.topic_word_counts = [Counter() for _ in range(self.K)]\n",
    "        # The total number of words assigned to each topic.\n",
    "        self.topic_counts = [0 for _ in range(self.K)]\n",
    "        # The total number of words contained in each document.\n",
    "        self.document_lengths = [len(d) for d in documents]        \n",
    "        self.distinct_words = set(word for document in documents for word in document)\n",
    "        # The number of distinct words\n",
    "        self.W = len(self.distinct_words)\n",
    "        for i in self.distinct_words:\n",
    "            print(\"Example of a word: \", i)\n",
    "            break\n",
    "        \n",
    "        print(\"Number of distinct words: \", self.W)\n",
    "        # The number of documents\n",
    "        self.D = len(documents)      \n",
    "        print(\"Number of players: \", self.D)\n",
    "        # document_topics is a Collection that assign a topic (number between 0 and K-1) to each word in each document.\n",
    "        # For example: document_topic[3][4] -> [4 document][id of topic assigned to 5 word]\n",
    "        # This collection defines each document's distribution over topics, and\n",
    "        # implicitly defines each topic's distribution over words.\n",
    "        document_topics = [[random.randrange(self.K) for word in document]\n",
    "                           for document in documents]\n",
    "        \n",
    "        for d in range(self.D):\n",
    "            for word, topic in zip(documents[d], document_topics[d]):\n",
    "                self.document_topic_counts[d][topic] += 1\n",
    "                self.topic_word_counts[topic][word] += 1\n",
    "                self.topic_counts[topic] += 1\n",
    "        \n",
    "        self.gibbs_sample(document_topics, documents)\n",
    "        \n",
    "        return(self.topic_word_counts, self.document_topic_counts)\n",
    "\n",
    "    def plot_words_clouds_topic(self, topic_names, plt):\n",
    "        for topic in range(self.K):\n",
    "            data = []   \n",
    "            text = \"\"\n",
    "            for word, count in self.topic_word_counts[topic].most_common():\n",
    "                if count > 1: \n",
    "                    data.append(str(word)) \n",
    "            text = ' '.join(data)\n",
    "            # Generate a word cloud image\n",
    "            wordcloud = WordCloud().generate(text)  \n",
    "            plt.figure()\n",
    "            plt.imshow(wordcloud, interpolation='bilinear')\n",
    "            plt.axis(\"off\")\n",
    "            plt.title(\"Topic #\" + str(topic_names[topic]))\n",
    "            plt.show()     \n",
    "\n",
    "    \n",
    "    \n"
   ]
  },
  {
   "cell_type": "code",
   "execution_count": 110,
   "id": "17083517",
   "metadata": {},
   "outputs": [],
   "source": [
    "# Set random seed\n",
    "random.seed(0)\n",
    "K = 3 \n",
    "max_iteration = 300\n",
    "\n",
    "import numpy as np\n",
    "\n",
    "# Convert data to list\n",
    "mixtureData = list(data.values())"
   ]
  },
  {
   "cell_type": "code",
   "execution_count": 111,
   "id": "b8ff4168",
   "metadata": {},
   "outputs": [
    {
     "name": "stdout",
     "output_type": "stream",
     "text": [
      "Example of a word:  (4, 0)\n",
      "Number of distinct words:  47\n",
      "Number of players:  2283\n",
      "Iteration: 50\n",
      "Average time per iteration:  0.016253142356872557\n",
      "Estimated time remaining:  4.06328558921814\n",
      "Iteration: 100\n",
      "Average time per iteration:  0.016283836364746094\n",
      "Estimated time remaining:  3.2567672729492188\n",
      "Iteration: 150\n",
      "Average time per iteration:  0.016137642860412596\n",
      "Estimated time remaining:  2.420646429061889\n",
      "Iteration: 200\n",
      "Average time per iteration:  0.016097378730773926\n",
      "Estimated time remaining:  1.6097378730773926\n",
      "Iteration: 250\n",
      "Average time per iteration:  0.01603353977203369\n",
      "Estimated time remaining:  0.8016769886016845\n",
      "Iteration: 300\n",
      "Average time per iteration:  0.01596564769744873\n",
      "Estimated time remaining:  0.0\n"
     ]
    },
    {
     "ename": "TypeError",
     "evalue": "sequence item 0: expected str instance, tuple found",
     "output_type": "error",
     "traceback": [
      "\u001b[0;31m---------------------------------------------------------------------------\u001b[0m",
      "\u001b[0;31mTypeError\u001b[0m                                 Traceback (most recent call last)",
      "Cell \u001b[0;32mIn [111], line 3\u001b[0m\n\u001b[1;32m      1\u001b[0m lda \u001b[39m=\u001b[39m MixtureModel(K, max_iteration)\n\u001b[1;32m      2\u001b[0m lda\u001b[39m.\u001b[39mrun(mixtureData) \n\u001b[0;32m----> 3\u001b[0m lda\u001b[39m.\u001b[39mplot_words_clouds_topic(data\u001b[39m.\u001b[39mkeys(), plt)\n",
      "Cell \u001b[0;32mIn [109], line 140\u001b[0m, in \u001b[0;36mMixtureModel.plot_words_clouds_topic\u001b[0;34m(self, topic_names, plt)\u001b[0m\n\u001b[1;32m    138\u001b[0m     \u001b[39mif\u001b[39;00m count \u001b[39m>\u001b[39m \u001b[39m1\u001b[39m: \n\u001b[1;32m    139\u001b[0m         data\u001b[39m.\u001b[39mappend(word) \n\u001b[0;32m--> 140\u001b[0m text \u001b[39m=\u001b[39m \u001b[39m'\u001b[39;49m\u001b[39m \u001b[39;49m\u001b[39m'\u001b[39;49m\u001b[39m.\u001b[39;49mjoin(data)\n\u001b[1;32m    141\u001b[0m \u001b[39m# Generate a word cloud image\u001b[39;00m\n\u001b[1;32m    142\u001b[0m wordcloud \u001b[39m=\u001b[39m WordCloud()\u001b[39m.\u001b[39mgenerate(text)  \n",
      "\u001b[0;31mTypeError\u001b[0m: sequence item 0: expected str instance, tuple found"
     ]
    }
   ],
   "source": [
    "lda = MixtureModel(K, max_iteration)\n",
    "lda.run(mixtureData) \n",
    "lda.plot_words_clouds_topic(data.keys(), plt) "
   ]
  },
  {
   "cell_type": "code",
   "execution_count": 134,
   "id": "7635721a",
   "metadata": {},
   "outputs": [
    {
     "ename": "PicklingError",
     "evalue": "Can't pickle <class '__main__.MixtureModel'>: it's not the same object as __main__.MixtureModel",
     "output_type": "error",
     "traceback": [
      "\u001b[0;31m---------------------------------------------------------------------------\u001b[0m",
      "\u001b[0;31mPicklingError\u001b[0m                             Traceback (most recent call last)",
      "Cell \u001b[0;32mIn [134], line 2\u001b[0m\n\u001b[1;32m      1\u001b[0m \u001b[39mwith\u001b[39;00m \u001b[39mopen\u001b[39m(\u001b[39m'\u001b[39m\u001b[39mlda_k3.pickle\u001b[39m\u001b[39m'\u001b[39m, \u001b[39m'\u001b[39m\u001b[39mwb\u001b[39m\u001b[39m'\u001b[39m) \u001b[39mas\u001b[39;00m handle:\n\u001b[0;32m----> 2\u001b[0m     pickle\u001b[39m.\u001b[39mdump(lda, handle, protocol\u001b[39m=\u001b[39mpickle\u001b[39m.\u001b[39mHIGHEST_PROTOCOL)\n",
      "\u001b[0;31mPicklingError\u001b[0m: Can't pickle <class '__main__.MixtureModel'>: it's not the same object as __main__.MixtureModel"
     ]
    }
   ],
   "source": [
    "with open('lda_k3.pickle', 'wb') as handle:\n",
    "    pickle.dump(lda, handle, protocol=pickle.HIGHEST_PROTOCOL)"
   ]
  },
  {
   "cell_type": "code",
   "execution_count": null,
   "id": "7210961a",
   "metadata": {},
   "outputs": [],
   "source": []
  }
 ],
 "metadata": {
  "kernelspec": {
   "display_name": "pgmkernel",
   "language": "python",
   "name": "venv"
  },
  "language_info": {
   "codemirror_mode": {
    "name": "ipython",
    "version": 3
   },
   "file_extension": ".py",
   "mimetype": "text/x-python",
   "name": "python",
   "nbconvert_exporter": "python",
   "pygments_lexer": "ipython3",
   "version": "3.9.6"
  }
 },
 "nbformat": 4,
 "nbformat_minor": 5
}
